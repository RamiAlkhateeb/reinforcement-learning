{
 "cells": [
  {
   "cell_type": "code",
   "execution_count": 23,
   "id": "b755dc5e-7499-46d9-9141-7d2ad7be4df4",
   "metadata": {
    "tags": []
   },
   "outputs": [],
   "source": [
    "size = 5\n",
    "maze = {(row, col): [(row - 1, col), (row + 1, col), (row, col - 1), (row, col + 1)]\n",
    "                for row in range(size) for col in range(size)}"
   ]
  },
  {
   "cell_type": "code",
   "execution_count": 24,
   "id": "e4625b67-a63c-469d-9d50-1f768d442d68",
   "metadata": {
    "tags": []
   },
   "outputs": [
    {
     "data": {
      "text/plain": [
       "{(0, 0): [(-1, 0), (1, 0), (0, -1), (0, 1)],\n",
       " (0, 1): [(-1, 1), (1, 1), (0, 0), (0, 2)],\n",
       " (0, 2): [(-1, 2), (1, 2), (0, 1), (0, 3)],\n",
       " (0, 3): [(-1, 3), (1, 3), (0, 2), (0, 4)],\n",
       " (0, 4): [(-1, 4), (1, 4), (0, 3), (0, 5)],\n",
       " (1, 0): [(0, 0), (2, 0), (1, -1), (1, 1)],\n",
       " (1, 1): [(0, 1), (2, 1), (1, 0), (1, 2)],\n",
       " (1, 2): [(0, 2), (2, 2), (1, 1), (1, 3)],\n",
       " (1, 3): [(0, 3), (2, 3), (1, 2), (1, 4)],\n",
       " (1, 4): [(0, 4), (2, 4), (1, 3), (1, 5)],\n",
       " (2, 0): [(1, 0), (3, 0), (2, -1), (2, 1)],\n",
       " (2, 1): [(1, 1), (3, 1), (2, 0), (2, 2)],\n",
       " (2, 2): [(1, 2), (3, 2), (2, 1), (2, 3)],\n",
       " (2, 3): [(1, 3), (3, 3), (2, 2), (2, 4)],\n",
       " (2, 4): [(1, 4), (3, 4), (2, 3), (2, 5)],\n",
       " (3, 0): [(2, 0), (4, 0), (3, -1), (3, 1)],\n",
       " (3, 1): [(2, 1), (4, 1), (3, 0), (3, 2)],\n",
       " (3, 2): [(2, 2), (4, 2), (3, 1), (3, 3)],\n",
       " (3, 3): [(2, 3), (4, 3), (3, 2), (3, 4)],\n",
       " (3, 4): [(2, 4), (4, 4), (3, 3), (3, 5)],\n",
       " (4, 0): [(3, 0), (5, 0), (4, -1), (4, 1)],\n",
       " (4, 1): [(3, 1), (5, 1), (4, 0), (4, 2)],\n",
       " (4, 2): [(3, 2), (5, 2), (4, 1), (4, 3)],\n",
       " (4, 3): [(3, 3), (5, 3), (4, 2), (4, 4)],\n",
       " (4, 4): [(3, 4), (5, 4), (4, 3), (4, 5)]}"
      ]
     },
     "execution_count": 24,
     "metadata": {},
     "output_type": "execute_result"
    }
   ],
   "source": [
    "maze"
   ]
  },
  {
   "cell_type": "code",
   "execution_count": 3,
   "id": "3ef9f600-bb86-44c3-b57a-c01340de940e",
   "metadata": {
    "tags": []
   },
   "outputs": [],
   "source": [
    "left_edges = [[(row, 0), (row, -1)] for row in range(size)]\n",
    "right_edges = [[(row, size - 1), (row, size)] for row in range(size)]\n",
    "upper_edges = [[(0, col), (-1, col)] for col in range(size)]\n",
    "lower_edges = [[(size - 1, col), (size, col)] for col in range(size)]"
   ]
  },
  {
   "cell_type": "code",
   "execution_count": 4,
   "id": "94c8d3ba-649a-4d47-804c-45eabe47f47c",
   "metadata": {
    "tags": []
   },
   "outputs": [
    {
     "data": {
      "text/plain": [
       "[[(0, 0), (0, -1)],\n",
       " [(1, 0), (1, -1)],\n",
       " [(2, 0), (2, -1)],\n",
       " [(3, 0), (3, -1)],\n",
       " [(4, 0), (4, -1)]]"
      ]
     },
     "execution_count": 4,
     "metadata": {},
     "output_type": "execute_result"
    }
   ],
   "source": [
    "left_edges"
   ]
  },
  {
   "cell_type": "code",
   "execution_count": 5,
   "id": "e345e438-dfb9-44e7-a27c-99a157f90f1c",
   "metadata": {
    "tags": []
   },
   "outputs": [
    {
     "data": {
      "text/plain": [
       "[[(0, 4), (0, 5)],\n",
       " [(1, 4), (1, 5)],\n",
       " [(2, 4), (2, 5)],\n",
       " [(3, 4), (3, 5)],\n",
       " [(4, 4), (4, 5)]]"
      ]
     },
     "execution_count": 5,
     "metadata": {},
     "output_type": "execute_result"
    }
   ],
   "source": [
    "right_edges"
   ]
  },
  {
   "cell_type": "code",
   "execution_count": 7,
   "id": "daf18fdf-df2d-44b1-bc98-a838a404851c",
   "metadata": {
    "tags": []
   },
   "outputs": [],
   "source": [
    "walls = [\n",
    "            [(1, 0), (1, 1)], [(2, 0), (2, 1)], [(3, 0), (3, 1)],\n",
    "            [(1, 1), (1, 2)], [(2, 1), (2, 2)], [(3, 1), (3, 2)],\n",
    "            [(3, 1), (4, 1)], [(0, 2), (1, 2)], [(1, 2), (1, 3)],\n",
    "            [(2, 2), (3, 2)], [(2, 3), (3, 3)], [(2, 4), (3, 4)],\n",
    "            [(4, 2), (4, 3)], [(1, 3), (1, 4)], [(2, 3), (2, 4)],\n",
    "        ]\n",
    "\n",
    "obstacles = upper_edges + lower_edges + left_edges + right_edges + walls"
   ]
  },
  {
   "cell_type": "code",
   "execution_count": 8,
   "id": "1096aa99-4ba1-48ec-95f5-0d898bb2e18a",
   "metadata": {
    "tags": []
   },
   "outputs": [
    {
     "data": {
      "text/plain": [
       "[[(1, 0), (1, 1)],\n",
       " [(2, 0), (2, 1)],\n",
       " [(3, 0), (3, 1)],\n",
       " [(1, 1), (1, 2)],\n",
       " [(2, 1), (2, 2)],\n",
       " [(3, 1), (3, 2)],\n",
       " [(3, 1), (4, 1)],\n",
       " [(0, 2), (1, 2)],\n",
       " [(1, 2), (1, 3)],\n",
       " [(2, 2), (3, 2)],\n",
       " [(2, 3), (3, 3)],\n",
       " [(2, 4), (3, 4)],\n",
       " [(4, 2), (4, 3)],\n",
       " [(1, 3), (1, 4)],\n",
       " [(2, 3), (2, 4)]]"
      ]
     },
     "execution_count": 8,
     "metadata": {},
     "output_type": "execute_result"
    }
   ],
   "source": [
    "walls"
   ]
  },
  {
   "cell_type": "code",
   "execution_count": 9,
   "id": "a6ecbf02-c672-4c7c-8e62-be2c64da0045",
   "metadata": {
    "tags": []
   },
   "outputs": [
    {
     "data": {
      "text/plain": [
       "[[(0, 0), (-1, 0)],\n",
       " [(0, 1), (-1, 1)],\n",
       " [(0, 2), (-1, 2)],\n",
       " [(0, 3), (-1, 3)],\n",
       " [(0, 4), (-1, 4)],\n",
       " [(4, 0), (5, 0)],\n",
       " [(4, 1), (5, 1)],\n",
       " [(4, 2), (5, 2)],\n",
       " [(4, 3), (5, 3)],\n",
       " [(4, 4), (5, 4)],\n",
       " [(0, 0), (0, -1)],\n",
       " [(1, 0), (1, -1)],\n",
       " [(2, 0), (2, -1)],\n",
       " [(3, 0), (3, -1)],\n",
       " [(4, 0), (4, -1)],\n",
       " [(0, 4), (0, 5)],\n",
       " [(1, 4), (1, 5)],\n",
       " [(2, 4), (2, 5)],\n",
       " [(3, 4), (3, 5)],\n",
       " [(4, 4), (4, 5)],\n",
       " [(1, 0), (1, 1)],\n",
       " [(2, 0), (2, 1)],\n",
       " [(3, 0), (3, 1)],\n",
       " [(1, 1), (1, 2)],\n",
       " [(2, 1), (2, 2)],\n",
       " [(3, 1), (3, 2)],\n",
       " [(3, 1), (4, 1)],\n",
       " [(0, 2), (1, 2)],\n",
       " [(1, 2), (1, 3)],\n",
       " [(2, 2), (3, 2)],\n",
       " [(2, 3), (3, 3)],\n",
       " [(2, 4), (3, 4)],\n",
       " [(4, 2), (4, 3)],\n",
       " [(1, 3), (1, 4)],\n",
       " [(2, 3), (2, 4)]]"
      ]
     },
     "execution_count": 9,
     "metadata": {},
     "output_type": "execute_result"
    }
   ],
   "source": [
    "obstacles"
   ]
  },
  {
   "cell_type": "code",
   "execution_count": 16,
   "id": "ee3b6956-f9b3-44a6-bbe2-5cf4f01095f2",
   "metadata": {
    "tags": []
   },
   "outputs": [],
   "source": [
    "import numpy as np\n"
   ]
  },
  {
   "cell_type": "code",
   "execution_count": 25,
   "id": "4954bf05-64ea-4a4a-ab10-8c2adcb496d4",
   "metadata": {
    "tags": []
   },
   "outputs": [
    {
     "data": {
      "text/plain": [
       "{(0, 0): [(1, 0), (0, 1)],\n",
       " (0, 1): [(1, 1), (0, 0), (0, 2)],\n",
       " (0, 2): [(0, 1), (0, 3)],\n",
       " (0, 3): [(1, 3), (0, 2), (0, 4)],\n",
       " (0, 4): [(1, 4), (0, 3)],\n",
       " (1, 0): [(0, 0), (2, 0)],\n",
       " (1, 1): [(0, 1), (2, 1)],\n",
       " (1, 2): [(2, 2)],\n",
       " (1, 3): [(0, 3), (2, 3)],\n",
       " (1, 4): [(0, 4), (2, 4)],\n",
       " (2, 0): [(1, 0), (3, 0)],\n",
       " (2, 1): [(1, 1), (3, 1)],\n",
       " (2, 2): [(1, 2), (2, 3)],\n",
       " (2, 3): [(1, 3), (2, 2)],\n",
       " (2, 4): [(1, 4)],\n",
       " (3, 0): [(2, 0), (4, 0)],\n",
       " (3, 1): [(2, 1)],\n",
       " (3, 2): [(4, 2), (3, 3)],\n",
       " (3, 3): [(4, 3), (3, 2), (3, 4)],\n",
       " (3, 4): [(4, 4), (3, 3)],\n",
       " (4, 0): [(3, 0), (4, 1)],\n",
       " (4, 1): [(4, 0), (4, 2)],\n",
       " (4, 2): [(3, 2), (4, 1)],\n",
       " (4, 3): [(3, 3), (4, 4)],\n",
       " (4, 4): [(3, 4), (4, 3)]}"
      ]
     },
     "execution_count": 25,
     "metadata": {},
     "output_type": "execute_result"
    }
   ],
   "source": [
    "for src, dst in obstacles:\n",
    "    maze[src].remove(dst)\n",
    "\n",
    "    if dst in maze:\n",
    "        maze[dst].remove(src)\n",
    "\n",
    "maze"
   ]
  },
  {
   "cell_type": "code",
   "execution_count": 18,
   "id": "0d0cca91-8fed-424d-89e2-1ae9e4c256d0",
   "metadata": {
    "tags": []
   },
   "outputs": [
    {
     "data": {
      "text/plain": [
       "[(0, 0), (-1, 0)]"
      ]
     },
     "execution_count": 18,
     "metadata": {},
     "output_type": "execute_result"
    }
   ],
   "source": [
    "obstacles[0]"
   ]
  },
  {
   "cell_type": "code",
   "execution_count": 19,
   "id": "122d21c6-e682-47e5-b330-91f813d12774",
   "metadata": {
    "tags": []
   },
   "outputs": [],
   "source": [
    "a,b = obstacles[0]"
   ]
  },
  {
   "cell_type": "code",
   "execution_count": 20,
   "id": "faec2907-4ef7-4ab4-98a9-7e60c2fb9dbe",
   "metadata": {
    "tags": []
   },
   "outputs": [
    {
     "data": {
      "text/plain": [
       "(0, 0)"
      ]
     },
     "execution_count": 20,
     "metadata": {},
     "output_type": "execute_result"
    }
   ],
   "source": [
    "a"
   ]
  },
  {
   "cell_type": "code",
   "execution_count": 21,
   "id": "8c467f16-38c9-4761-886d-aec387951f24",
   "metadata": {
    "tags": []
   },
   "outputs": [
    {
     "data": {
      "text/plain": [
       "[(1, 0), (0, 1)]"
      ]
     },
     "execution_count": 21,
     "metadata": {},
     "output_type": "execute_result"
    }
   ],
   "source": [
    "maze[a]"
   ]
  },
  {
   "cell_type": "code",
   "execution_count": null,
   "id": "d3a5dece-c4ec-41a5-80e2-532d3de10373",
   "metadata": {},
   "outputs": [],
   "source": []
  }
 ],
 "metadata": {
  "kernelspec": {
   "display_name": "Python 3 (ipykernel)",
   "language": "python",
   "name": "python3"
  },
  "language_info": {
   "codemirror_mode": {
    "name": "ipython",
    "version": 3
   },
   "file_extension": ".py",
   "mimetype": "text/x-python",
   "name": "python",
   "nbconvert_exporter": "python",
   "pygments_lexer": "ipython3",
   "version": "3.11.1"
  }
 },
 "nbformat": 4,
 "nbformat_minor": 5
}
